{
 "cells": [
  {
   "cell_type": "code",
   "execution_count": 2,
   "metadata": {},
   "outputs": [],
   "source": [
    "import numpy as np"
   ]
  },
  {
   "cell_type": "code",
   "execution_count": 3,
   "metadata": {},
   "outputs": [],
   "source": [
    "a = np.random.randn(2, 3) # a.shape(2,3)\n",
    "b = np.random.randn(2,1) #a.shape(2,1)\n",
    "c = a + b"
   ]
  },
  {
   "cell_type": "code",
   "execution_count": 7,
   "metadata": {},
   "outputs": [
    {
     "name": "stdout",
     "output_type": "stream",
     "text": [
      "C =  [[ 0.29826225 -1.43934657  2.35661084]\n",
      " [ 0.30896524  1.32333772  0.32748942]]\n"
     ]
    }
   ],
   "source": [
    "print(\"C = \" , (c))"
   ]
  },
  {
   "cell_type": "code",
   "execution_count": 10,
   "metadata": {},
   "outputs": [],
   "source": [
    "a=np.random.randn(12288,150) \n",
    "\n",
    "# a.shape = (12288, 150)\n",
    "\n",
    "b = np.random.randn(150, 45)\n",
    "\n",
    "# b.shape = (150, 45)\n",
    "\n",
    "c = np.dot(a,b)"
   ]
  },
  {
   "cell_type": "code",
   "execution_count": 11,
   "metadata": {},
   "outputs": [
    {
     "name": "stdout",
     "output_type": "stream",
     "text": [
      "[[ -2.10035771   1.56689056  -8.10380285 ... -21.10176188  -3.31217299\n",
      "  -23.33432264]\n",
      " [  2.95268064 -10.11074164  23.2703606  ...   3.23700879  -7.32020078\n",
      "  -11.23138736]\n",
      " [-21.60163048   5.74734712   3.01818582 ... -13.35604153 -21.27666939\n",
      "    5.41697656]\n",
      " ...\n",
      " [-11.66803592 -22.95350478   4.56031221 ... -10.82946518   3.9579111\n",
      "   -1.66509799]\n",
      " [  8.34197389  -1.85261497  16.60371131 ...  18.54943726  -0.87911616\n",
      "    6.02753859]\n",
      " [  0.59640083  12.99992086  -0.8418405  ...  -4.45027127   6.78292431\n",
      "    5.08898096]]\n"
     ]
    }
   ],
   "source": [
    "print(c)"
   ]
  },
  {
   "cell_type": "code",
   "execution_count": 12,
   "metadata": {},
   "outputs": [
    {
     "data": {
      "text/plain": [
       "(12288, 45)"
      ]
     },
     "execution_count": 12,
     "metadata": {},
     "output_type": "execute_result"
    }
   ],
   "source": [
    "c.shape"
   ]
  },
  {
   "cell_type": "code",
   "execution_count": 13,
   "metadata": {},
   "outputs": [
    {
     "ename": "SyntaxError",
     "evalue": "invalid syntax (<ipython-input-13-6137a008832d>, line 3)",
     "output_type": "error",
     "traceback": [
      "\u001b[1;36m  File \u001b[1;32m\"<ipython-input-13-6137a008832d>\"\u001b[1;36m, line \u001b[1;32m3\u001b[0m\n\u001b[1;33m    b.shape = (4, 1)b.shape=(4,1)\u001b[0m\n\u001b[1;37m                    ^\u001b[0m\n\u001b[1;31mSyntaxError\u001b[0m\u001b[1;31m:\u001b[0m invalid syntax\n"
     ]
    }
   ],
   "source": [
    "a.shape=(4,3)\n",
    "\n",
    "b.shape = (4, 1)b.shape=(4,1)\n",
    "\n",
    "\n",
    "for i in range(3):\n",
    "\n",
    "    for j in range(4):\n",
    "\n",
    "        c[i][j] = a[j][i] + b[j]"
   ]
  },
  {
   "cell_type": "code",
   "execution_count": 14,
   "metadata": {},
   "outputs": [
    {
     "ename": "SyntaxError",
     "evalue": "invalid character in identifier (<ipython-input-14-2f0c311cd660>, line 1)",
     "output_type": "error",
     "traceback": [
      "\u001b[1;36m  File \u001b[1;32m\"<ipython-input-14-2f0c311cd660>\"\u001b[1;36m, line \u001b[1;32m1\u001b[0m\n\u001b[1;33m    a=np.array([[1,1],[1,−1]])\u001b[0m\n\u001b[1;37m                          ^\u001b[0m\n\u001b[1;31mSyntaxError\u001b[0m\u001b[1;31m:\u001b[0m invalid character in identifier\n"
     ]
    }
   ],
   "source": [
    "a=np.array([[1,1],[1,−1]])\n",
    "\n",
    "b = np.array([[2], [3]])b=np.array([[2],[3]])\n",
    "\n",
    "c = a + bc=a+b"
   ]
  },
  {
   "cell_type": "code",
   "execution_count": 15,
   "metadata": {},
   "outputs": [
    {
     "data": {
      "text/plain": [
       "(2, 2, 1)"
      ]
     },
     "execution_count": 15,
     "metadata": {},
     "output_type": "execute_result"
    }
   ],
   "source": [
    "x = np.array([[[1],[2]],[[3],[4]]])\n",
    "\n",
    "x.shape"
   ]
  },
  {
   "cell_type": "code",
   "execution_count": null,
   "metadata": {},
   "outputs": [],
   "source": []
  }
 ],
 "metadata": {
  "kernelspec": {
   "display_name": "Python 3",
   "language": "python",
   "name": "python3"
  },
  "language_info": {
   "codemirror_mode": {
    "name": "ipython",
    "version": 3
   },
   "file_extension": ".py",
   "mimetype": "text/x-python",
   "name": "python",
   "nbconvert_exporter": "python",
   "pygments_lexer": "ipython3",
   "version": "3.7.0"
  }
 },
 "nbformat": 4,
 "nbformat_minor": 2
}
